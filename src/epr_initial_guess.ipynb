{
 "cells": [
  {
   "cell_type": "markdown",
   "metadata": {},
   "source": [
    "This notebook was used to get reasonable initial values for EPR spin-Hamiltonian parameters prior to EasySpin simulations.\n",
    "\n",
    "Written by Felippe M. Colombari - LNBR/CNPEM (felippe.colombari@lnbr.cnpem.br)\n",
    "\n",
    "May, 2024"
   ]
  },
  {
   "cell_type": "code",
   "execution_count": null,
   "metadata": {},
   "outputs": [],
   "source": [
    "#%pip install matplotlib pandas numpy scipy\n",
    "import pandas as pd\n",
    "import numpy as np \n",
    "import scipy as sp \n",
    "import matplotlib.pyplot as plt\n",
    "from scipy.signal import find_peaks\n",
    "from scipy.signal import savgol_filter"
   ]
  },
  {
   "cell_type": "code",
   "execution_count": null,
   "metadata": {},
   "outputs": [],
   "source": [
    "colnames=[\"freq\", \"signal\"]"
   ]
  },
  {
   "cell_type": "code",
   "execution_count": null,
   "metadata": {},
   "outputs": [],
   "source": [
    "spectrum = pd.read_csv(\"../demo/EPR_WT_avicel.txt\", sep=\",\\t\", names=colnames, header=0, index_col=False)"
   ]
  },
  {
   "cell_type": "code",
   "execution_count": null,
   "metadata": {},
   "outputs": [],
   "source": [
    "x_data = spectrum['freq']\n",
    "y_data = spectrum['signal']"
   ]
  },
  {
   "cell_type": "code",
   "execution_count": null,
   "metadata": {},
   "outputs": [],
   "source": [
    "peaks_pos, properties_pos = find_peaks(  y_data, height=862, width=5, prominence=60, rel_height=0.05 )\n",
    "peaks_neg, properties_neg = find_peaks( -y_data, height=100, width=5, prominence=200, rel_height=0.05 )"
   ]
  },
  {
   "cell_type": "code",
   "execution_count": null,
   "metadata": {},
   "outputs": [],
   "source": [
    "all_peaks = np.concatenate((peaks_pos, peaks_neg))"
   ]
  },
  {
   "cell_type": "code",
   "execution_count": null,
   "metadata": {},
   "outputs": [],
   "source": [
    "all_properties = np.stack((properties_pos, properties_neg), casting='same_kind')"
   ]
  },
  {
   "cell_type": "code",
   "execution_count": null,
   "metadata": {},
   "outputs": [],
   "source": [
    "h = 6.626E-34         # J.s\n",
    "f = 9.14E9            # Hz ou 1/s\n",
    "mB = 9.2740154E-24    # J/T\n",
    "gauss2mhz = 1/0.35683 # conversion factor"
   ]
  },
  {
   "cell_type": "code",
   "execution_count": null,
   "metadata": {},
   "outputs": [],
   "source": [
    "x_data_scale = h * f / (mB * x_data/1000)"
   ]
  },
  {
   "cell_type": "markdown",
   "metadata": {},
   "source": [
    "Get initial value for A|| by estimating the average distance between peaks at this region:"
   ]
  },
  {
   "cell_type": "code",
   "execution_count": null,
   "metadata": {},
   "outputs": [],
   "source": [
    "A_par = [0] * 3\n",
    "A_par[0] = x_data[all_peaks[1]] - x_data[all_peaks[0]]\n",
    "A_par[1] = x_data[all_peaks[2]] - x_data[all_peaks[1]]\n",
    "A_par[2] = x_data[all_peaks[3]] - x_data[all_peaks[2]]\n",
    "\n",
    "A_par_center = (x_data[all_peaks[3]] + x_data[all_peaks[0]])/2\n",
    "\n",
    "A_parallel_mT = (x_data[all_peaks[3]] - x_data[all_peaks[0]])/3\n",
    "A_parallel_G = A_parallel_mT * 10\n",
    "A_parallel_MHz = A_parallel_G * gauss2mhz\n",
    "\n",
    "print(\"A||  : %6.2f mT, or %6.2f G, or %6.3f MHz\" % (A_parallel_mT, A_parallel_G, A_parallel_MHz))"
   ]
  },
  {
   "cell_type": "markdown",
   "metadata": {},
   "source": [
    "Use derivatives to estimate the number of shoulders at the perpendicular region:"
   ]
  },
  {
   "cell_type": "code",
   "execution_count": null,
   "metadata": {},
   "outputs": [],
   "source": [
    "der2 = savgol_filter(y_data, window_length=10, polyorder=4, deriv=2)\n",
    "max_der2 = np.max(np.abs(der2))\n",
    "large = np.where(np.abs(der2) > max_der2/2)[0]\n",
    "gaps = np.diff(large) > 10\n",
    "begins = np.insert(large[1:][gaps], 0, large[0])\n",
    "ends = np.append(large[:-1][gaps], large[-1])\n",
    "changes = ((begins+ends)/2).astype(int)\n",
    "\n",
    "new_changes = [ x for x in changes if x > peaks_pos[-1] and x < peaks_neg[-1] ]\n",
    "\n",
    "n_A_per = len(new_changes) + 2 # add two points corresponding to first (positive) and last (negative) peaks\n",
    "\n",
    "print(\"Number of hyperfine at perpendicular region is %i \" % n_A_per)"
   ]
  },
  {
   "cell_type": "markdown",
   "metadata": {},
   "source": [
    "And get initial value for A_|_ by estimating the average distance between shoulders:"
   ]
  },
  {
   "cell_type": "code",
   "execution_count": null,
   "metadata": {},
   "outputs": [],
   "source": [
    "A_per_mT = (x_data[all_peaks[5]] - x_data[all_peaks[4]])/ n_A_per\n",
    "A_per_G = A_per_mT * 10\n",
    "A_per_MHz = A_per_G * gauss2mhz\n",
    "\n",
    "A_per_center = (x_data[all_peaks[5]] + x_data[all_peaks[4]])/2\n",
    "\n",
    "print(\"A_|_ : %6.2f mT, or %6.2f G, or %6.2f MHz\" % (A_per_mT, A_per_G, A_per_MHz))"
   ]
  },
  {
   "cell_type": "code",
   "execution_count": null,
   "metadata": {},
   "outputs": [],
   "source": [
    "import matplotlib.ticker as ticker\n",
    "\n",
    "fig, ax1 = plt.subplots()\n",
    "fig.set_size_inches(10,5)\n",
    "\n",
    "plt.axis([220, 370, -9900, 9500])\n",
    "\n",
    "ax1.set_title('dataset #6 - WT + avicel')\n",
    "\n",
    "ax1.plot(x_data, y_data, label=\"Raw data\", lw=1.7)\n",
    "ax1.plot(x_data[peaks_pos], y_data[peaks_pos], 'r+', ms=10, label=\"Detected peaks\")\n",
    "ax1.plot(x_data[peaks_neg], y_data[peaks_neg], 'r+', ms=10, label=\"Detected peaks\")\n",
    "\n",
    "ax1.grid(which='major', color='black', linewidth=0.3)\n",
    "ax1.grid(which='minor', color='black', linewidth=0.1)\n",
    "ax1.minorticks_on()\n",
    "ax1.xaxis.set_major_locator(ticker.MultipleLocator(10))\n",
    "ax1.xaxis.set_minor_locator(ticker.MultipleLocator(2))\n",
    "\n",
    "ax1.set_xlabel('freq (mT)')\n",
    "ax1.set_ylabel('signal')\n",
    "\n",
    "plt.axhline(y=0., color='black', linestyle='-.', lw=0.6)\n",
    "\n",
    "idx = np.argwhere(np.diff(np.sign(y_data - 0))).flatten()\n",
    "ax1.plot(x_data[idx], y_data[idx], 'r+', ms=10)\n",
    "\n",
    "#A parallel stuff\n",
    "px0 = [x_data[all_peaks[0]], x_data[all_peaks[0]]]\n",
    "px1 = [x_data[all_peaks[1]], x_data[all_peaks[1]]]\n",
    "px2 = [x_data[all_peaks[2]], x_data[all_peaks[2]]]\n",
    "px3 = [x_data[all_peaks[3]], x_data[all_peaks[3]]]\n",
    "px4 = [x_data[all_peaks[0]], x_data[all_peaks[3]]]\n",
    "py1 = [-1200, -800]\n",
    "py2 = [-1200, -1200]\n",
    "\n",
    "ax1.plot(px0, py1, color='black', linestyle='-')\n",
    "ax1.plot(px1, py1, color='black', linestyle='-')\n",
    "ax1.plot(px2, py1, color='black', linestyle='-')\n",
    "ax1.plot(px3, py1, color='black', linestyle='-')\n",
    "ax1.plot(px4, py2, color='black', linestyle='-')\n",
    "\n",
    "ax1.text(A_par_center, -2200, \n",
    "         \"A$_{\\parallel}$ = \" + str(f'%5.1f' % A_parallel_mT) + \" mT \" + str(f'(%5.1f' % A_parallel_MHz) + \" MHz)\", \n",
    "         fontsize = 12, va='center', ha='center', fontfamily='sans-serif',\n",
    "         bbox = dict(facecolor = 'white', alpha = 0.9))\n",
    "\n",
    "#A perpendicular stuff\n",
    "px0 = [x_data[all_peaks[4]], x_data[all_peaks[4]]]\n",
    "px1 = [x_data[new_changes[1]], x_data[new_changes[1]]]\n",
    "px2 = [x_data[new_changes[2]], x_data[new_changes[2]]]\n",
    "px3 = [x_data[new_changes[3]], x_data[new_changes[3]]]\n",
    "px4 = [x_data[new_changes[0]], x_data[new_changes[0]]]\n",
    "pxh = [x_data[all_peaks[5]], x_data[all_peaks[4]]]\n",
    "pxf = [x_data[all_peaks[5]], x_data[all_peaks[5]]]\n",
    "\n",
    "py1 = [4200, 3800]\n",
    "py2 = [4200, 4200]\n",
    "\n",
    "ax1.plot(px0, py1, color='black', linestyle='-')\n",
    "ax1.plot(px1, py1, color='black', linestyle='-')\n",
    "ax1.plot(px2, py1, color='black', linestyle='-')\n",
    "ax1.plot(px3, py1, color='black', linestyle='-')\n",
    "ax1.plot(px4, py1, color='black', linestyle='-')\n",
    "\n",
    "ax1.plot(pxf, py1, color='black', linestyle='-')\n",
    "ax1.plot(pxh, py2, color='black', linestyle='-')\n",
    "\n",
    "ax1.text(A_per_center, 5200, \n",
    "         \"A$_{\\perp}$ = \" + str(f'%5.1f' % A_per_mT) + \" mT \" + str(f'(%5.1f' % A_per_MHz) + \" MHz)\",\n",
    "         fontsize = 12, va='center', ha='center', fontfamily='sans-serif',\n",
    "         bbox = dict(facecolor = 'white', alpha = 0.9))\n",
    "\n",
    "\n",
    "ax1.plot(x_data[new_changes], y_data[new_changes], 'rx', ms=5)\n",
    "\n",
    "plt.savefig('fig_dataset03_A.png', dpi=300, pad_inches=0.1, bbox_inches='tight')\n",
    "plt.show()"
   ]
  },
  {
   "cell_type": "markdown",
   "metadata": {},
   "source": [
    "Get g|| by estimating the center of the parallel region:"
   ]
  },
  {
   "cell_type": "code",
   "execution_count": null,
   "metadata": {},
   "outputs": [],
   "source": [
    "g_parallel = (x_data_scale[all_peaks[0]] + x_data_scale[all_peaks[3]]) / 2\n",
    "print(\"g_parallel: %s\" % (g_parallel))"
   ]
  },
  {
   "cell_type": "markdown",
   "metadata": {},
   "source": [
    "Get g_|_ by estimating the center of the perpendicular region:"
   ]
  },
  {
   "cell_type": "code",
   "execution_count": null,
   "metadata": {},
   "outputs": [],
   "source": [
    "g_per = (x_data_scale[all_peaks[5]] + x_data_scale[all_peaks[4]]) / 2\n",
    "print(\"g_perpendicular: %s\" % (g_per))"
   ]
  },
  {
   "cell_type": "code",
   "execution_count": null,
   "metadata": {},
   "outputs": [],
   "source": [
    "fig, ax1 = plt.subplots()\n",
    "fig.set_size_inches(10,5)\n",
    "\n",
    "plt.axis([2.75, 1.80, -9500, 9500])\n",
    "\n",
    "ax1.set_title('dataset #6 - WT + avicel')\n",
    "\n",
    "ax1.plot(x_data_scale, y_data, label=\"Raw data\", lw=1.5)\n",
    "ax1.plot(x_data_scale[peaks_pos], y_data[peaks_pos], 'r+', ms=10, label=\"Detected peaks\")\n",
    "ax1.plot(x_data_scale[peaks_neg], y_data[peaks_neg], 'r+', ms=10, label=\"Detected peaks\")\n",
    "\n",
    "ax1.grid(which='major', color='black', linewidth=0.3)\n",
    "ax1.grid(which='minor', color='black', linewidth=0.1)\n",
    "ax1.minorticks_on()\n",
    "ax1.xaxis.set_major_locator(ticker.MultipleLocator(0.05))\n",
    "ax1.xaxis.set_minor_locator(ticker.MultipleLocator(0.01))\n",
    "\n",
    "ax1.set_xlabel('g-factor')\n",
    "ax1.set_ylabel('intensity')\n",
    "\n",
    "plt.axhline(y=0., color='black', linestyle='-.', lw=0.6)\n",
    "\n",
    "ax1.plot(x_data_scale[idx], y_data[idx], 'r+')\n",
    "\n",
    "#g parallel stuff\n",
    "px1 = [g_parallel, g_parallel]\n",
    "py1 = [-1200, -800]\n",
    "\n",
    "ax1.plot(px1, py1, color='black', linestyle='-')\n",
    "\n",
    "ax1.text(g_parallel, -2100, \n",
    "         \"g$_{\\parallel}$ = \" + str(f'%7.5f' % g_parallel), \n",
    "         fontsize = 12, va='center', ha='center', fontfamily='sans-serif',\n",
    "         bbox = dict(facecolor = 'white', alpha = 0.9))\n",
    "\n",
    "#g perpendicular stuff\n",
    "px1 = [g_per, g_per]\n",
    "py1 = [4600, 4200]\n",
    "\n",
    "ax1.plot(px1, py1, color='black', linestyle='-')\n",
    "\n",
    "ax1.text(g_per, 5500, \n",
    "         \"g$_{\\perp}$ = \" + str(f'%7.5f' % g_per), \n",
    "         fontsize = 12, va='center', ha='center', fontfamily='sans-serif',\n",
    "         bbox = dict(facecolor = 'white', alpha = 0.9))\n",
    "\n",
    "plt.savefig('fig_dataset03_g.png', dpi=300, pad_inches=0.1, bbox_inches='tight')\n",
    "plt.show()"
   ]
  },
  {
   "cell_type": "code",
   "execution_count": null,
   "metadata": {},
   "outputs": [],
   "source": [
    "print(\"These are the position of all peaks: %s mT\" % (np.array(x_data[all_peaks])))"
   ]
  },
  {
   "cell_type": "code",
   "execution_count": null,
   "metadata": {},
   "outputs": [],
   "source": [
    "print(\"These are the position of all peaks: %s (g_factor)\" % (np.array(x_data_scale[all_peaks])))"
   ]
  }
 ],
 "metadata": {
  "kernelspec": {
   "display_name": "epr_analysis",
   "language": "python",
   "name": "python3"
  },
  "language_info": {
   "codemirror_mode": {
    "name": "ipython",
    "version": 3
   },
   "file_extension": ".py",
   "mimetype": "text/x-python",
   "name": "python",
   "nbconvert_exporter": "python",
   "pygments_lexer": "ipython3",
   "version": "3.12.3"
  },
  "orig_nbformat": 4
 },
 "nbformat": 4,
 "nbformat_minor": 2
}
